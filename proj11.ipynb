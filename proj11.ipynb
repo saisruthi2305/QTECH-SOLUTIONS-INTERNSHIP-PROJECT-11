{
 "cells": [
  {
   "cell_type": "code",
   "execution_count": 4,
   "id": "559cf3d9-4c48-4e8f-9bbb-ee08dc0e378b",
   "metadata": {},
   "outputs": [
    {
     "name": "stdout",
     "output_type": "stream",
     "text": [
      "Requirement already satisfied: pandas in c:\\programdata\\anaconda3\\lib\\site-packages (2.1.4)\n",
      "Requirement already satisfied: scikit-learn in c:\\programdata\\anaconda3\\lib\\site-packages (1.2.2)\n",
      "Requirement already satisfied: numpy<2,>=1.23.2 in c:\\programdata\\anaconda3\\lib\\site-packages (from pandas) (1.26.4)\n",
      "Requirement already satisfied: python-dateutil>=2.8.2 in c:\\programdata\\anaconda3\\lib\\site-packages (from pandas) (2.8.2)\n",
      "Requirement already satisfied: pytz>=2020.1 in c:\\programdata\\anaconda3\\lib\\site-packages (from pandas) (2023.3.post1)\n",
      "Requirement already satisfied: tzdata>=2022.1 in c:\\programdata\\anaconda3\\lib\\site-packages (from pandas) (2023.3)\n",
      "Requirement already satisfied: scipy>=1.3.2 in c:\\programdata\\anaconda3\\lib\\site-packages (from scikit-learn) (1.11.4)\n",
      "Requirement already satisfied: joblib>=1.1.1 in c:\\programdata\\anaconda3\\lib\\site-packages (from scikit-learn) (1.2.0)\n",
      "Requirement already satisfied: threadpoolctl>=2.0.0 in c:\\programdata\\anaconda3\\lib\\site-packages (from scikit-learn) (2.2.0)\n",
      "Requirement already satisfied: six>=1.5 in c:\\programdata\\anaconda3\\lib\\site-packages (from python-dateutil>=2.8.2->pandas) (1.16.0)\n"
     ]
    },
    {
     "name": "stderr",
     "output_type": "stream",
     "text": [
      "DEPRECATION: Loading egg at c:\\programdata\\anaconda3\\lib\\site-packages\\vboxapi-1.0-py3.11.egg is deprecated. pip 24.3 will enforce this behaviour change. A possible replacement is to use pip for package installation.. Discussion can be found at https://github.com/pypa/pip/issues/12330\n"
     ]
    }
   ],
   "source": [
    "!pip install pandas scikit-learn\n"
   ]
  },
  {
   "cell_type": "code",
   "execution_count": 5,
   "id": "517bb57d-e52f-4702-97a8-1b65d1e18292",
   "metadata": {},
   "outputs": [],
   "source": [
    "import pandas as pd\n",
    "from sklearn.metrics.pairwise import cosine_similarity\n"
   ]
  },
  {
   "cell_type": "code",
   "execution_count": 6,
   "id": "08e761a2-256b-412f-9a40-1ec37b88243b",
   "metadata": {},
   "outputs": [],
   "source": [
    "# Sample dataset\n",
    "data = {\n",
    "    'user_id': [1, 1, 1, 2, 2, 3, 3, 4, 4, 5],\n",
    "    'book_id': ['A', 'B', 'C', 'A', 'C', 'B', 'D', 'A', 'D', 'C'],\n",
    "    'rating': [5, 4, 3, 4, 5, 5, 3, 4, 5, 2]\n",
    "}\n",
    "df = pd.DataFrame(data)\n"
   ]
  },
  {
   "cell_type": "code",
   "execution_count": 7,
   "id": "997ca434-19f3-4d9b-a551-320c479acbe1",
   "metadata": {},
   "outputs": [],
   "source": [
    "# Create user-item matrix\n",
    "user_item_matrix = df.pivot_table(index='user_id', columns='book_id', values='rating').fillna(0)\n"
   ]
  },
  {
   "cell_type": "code",
   "execution_count": 8,
   "id": "ab1a80f7-009f-4a52-98fe-15ca4fbd016d",
   "metadata": {},
   "outputs": [],
   "source": [
    "# Compute cosine similarity\n",
    "cosine_sim = cosine_similarity(user_item_matrix)\n",
    "similarity_df = pd.DataFrame(cosine_sim, index=user_item_matrix.index, columns=user_item_matrix.index)\n"
   ]
  },
  {
   "cell_type": "code",
   "execution_count": 9,
   "id": "bb84786f-bf4e-49fa-99bd-bf70da34b28a",
   "metadata": {},
   "outputs": [],
   "source": [
    "def get_recommendations(user_id, user_item_matrix, similarity_df, n_recommendations=3):\n",
    "    similar_users = similarity_df[user_id].sort_values(ascending=False).index[1:]  # Exclude the user themselves\n",
    "    recommendations = pd.Series(dtype='float64')\n",
    "    \n",
    "    for similar_user in similar_users:\n",
    "        # Get the books rated by similar users that the target user hasn't rated\n",
    "        unrated_books = user_item_matrix.loc[user_id][user_item_matrix.loc[similar_user] > 0].index\n",
    "        for book in unrated_books:\n",
    "            if book not in recommendations:\n",
    "                recommendations[book] = user_item_matrix.loc[similar_user][book] * similarity_df[user_id][similar_user]\n",
    "    \n",
    "    # Return top N recommendations\n",
    "    return recommendations.nlargest(n_recommendations).index.tolist()\n"
   ]
  },
  {
   "cell_type": "code",
   "execution_count": 10,
   "id": "34e51315-1930-4274-a207-2f38c87bd064",
   "metadata": {},
   "outputs": [
    {
     "name": "stdout",
     "output_type": "stream",
     "text": [
      "Recommended books for User 1: ['C', 'A', 'B']\n"
     ]
    }
   ],
   "source": [
    "user_id = 1\n",
    "recommended_books = get_recommendations(user_id, user_item_matrix, similarity_df)\n",
    "print(f\"Recommended books for User {user_id}: {recommended_books}\")\n"
   ]
  },
  {
   "cell_type": "code",
   "execution_count": 11,
   "id": "fd325c5b-856e-4031-980f-dac14933018c",
   "metadata": {},
   "outputs": [
    {
     "name": "stdout",
     "output_type": "stream",
     "text": [
      "Recommended books for User 2: ['A', 'B', 'D']\n"
     ]
    }
   ],
   "source": [
    "user_id = 2\n",
    "recommended_books = get_recommendations(user_id, user_item_matrix, similarity_df)\n",
    "print(f\"Recommended books for User {user_id}: {recommended_books}\")"
   ]
  },
  {
   "cell_type": "code",
   "execution_count": 12,
   "id": "63ee2116-7f91-435f-9d4b-f71491c2ad92",
   "metadata": {},
   "outputs": [
    {
     "name": "stdout",
     "output_type": "stream",
     "text": [
      "Recommended books for User 3: ['A', 'D', 'B']\n"
     ]
    }
   ],
   "source": [
    "user_id = 3\n",
    "recommended_books = get_recommendations(user_id, user_item_matrix, similarity_df)\n",
    "print(f\"Recommended books for User {user_id}: {recommended_books}\")"
   ]
  },
  {
   "cell_type": "code",
   "execution_count": null,
   "id": "2a261de3-1a32-4c99-84f0-72feedd20500",
   "metadata": {},
   "outputs": [],
   "source": []
  }
 ],
 "metadata": {
  "kernelspec": {
   "display_name": "Python 3 (ipykernel)",
   "language": "python",
   "name": "python3"
  },
  "language_info": {
   "codemirror_mode": {
    "name": "ipython",
    "version": 3
   },
   "file_extension": ".py",
   "mimetype": "text/x-python",
   "name": "python",
   "nbconvert_exporter": "python",
   "pygments_lexer": "ipython3",
   "version": "3.11.7"
  }
 },
 "nbformat": 4,
 "nbformat_minor": 5
}
